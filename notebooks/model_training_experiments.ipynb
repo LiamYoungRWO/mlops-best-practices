{
 "cells": [
  {
   "cell_type": "code",
   "execution_count": 97,
   "id": "dd418ad4",
   "metadata": {},
   "outputs": [],
   "source": [
    "import numpy as np \n",
    "import pandas as pd\n",
    "import json\n",
    "import joblib\n",
    "import os\n",
    "import seaborn as sns\n",
    "import matplotlib.pyplot as plt\n",
    "from collections import Counter\n",
    "\n",
    "\n",
    "from sklearn.model_selection import train_test_split, RandomizedSearchCV\n",
    "from imblearn.over_sampling import SMOTE\n",
    "from sklearn.preprocessing import OneHotEncoder, StandardScaler, RobustScaler\n",
    "from sklearn.compose import ColumnTransformer\n",
    "from sklearn.pipeline import Pipeline\n",
    "\n",
    "\n",
    "from sklearn.svm import SVC\n",
    "from sklearn.linear_model import LogisticRegression\n",
    "from sklearn.neighbors import KNeighborsClassifier\n",
    "from sklearn.ensemble import RandomForestClassifier\n",
    "from sklearn.naive_bayes import BernoulliNB\n",
    "from xgboost import XGBClassifier\n",
    "from catboost import CatBoostClassifier\n",
    "from lightgbm import LGBMClassifier"
   ]
  },
  {
   "cell_type": "code",
   "execution_count": 98,
   "id": "094bb0a0",
   "metadata": {},
   "outputs": [
    {
     "data": {
      "text/html": [
       "<div>\n",
       "<style scoped>\n",
       "    .dataframe tbody tr th:only-of-type {\n",
       "        vertical-align: middle;\n",
       "    }\n",
       "\n",
       "    .dataframe tbody tr th {\n",
       "        vertical-align: top;\n",
       "    }\n",
       "\n",
       "    .dataframe thead th {\n",
       "        text-align: right;\n",
       "    }\n",
       "</style>\n",
       "<table border=\"1\" class=\"dataframe\">\n",
       "  <thead>\n",
       "    <tr style=\"text-align: right;\">\n",
       "      <th></th>\n",
       "      <th>CustomerId</th>\n",
       "      <th>CreditScore</th>\n",
       "      <th>Geography</th>\n",
       "      <th>Gender</th>\n",
       "      <th>Age</th>\n",
       "      <th>Tenure</th>\n",
       "      <th>Balance</th>\n",
       "      <th>NumOfProducts</th>\n",
       "      <th>HasCrCard</th>\n",
       "      <th>IsActiveMember</th>\n",
       "      <th>EstimatedSalary</th>\n",
       "      <th>Exited</th>\n",
       "    </tr>\n",
       "  </thead>\n",
       "  <tbody>\n",
       "    <tr>\n",
       "      <th>0</th>\n",
       "      <td>15634602</td>\n",
       "      <td>619</td>\n",
       "      <td>France</td>\n",
       "      <td>Female</td>\n",
       "      <td>42</td>\n",
       "      <td>2</td>\n",
       "      <td>0.00</td>\n",
       "      <td>1</td>\n",
       "      <td>1</td>\n",
       "      <td>1</td>\n",
       "      <td>101348.88</td>\n",
       "      <td>1</td>\n",
       "    </tr>\n",
       "    <tr>\n",
       "      <th>1</th>\n",
       "      <td>15647311</td>\n",
       "      <td>608</td>\n",
       "      <td>Spain</td>\n",
       "      <td>Female</td>\n",
       "      <td>41</td>\n",
       "      <td>1</td>\n",
       "      <td>83807.86</td>\n",
       "      <td>1</td>\n",
       "      <td>0</td>\n",
       "      <td>1</td>\n",
       "      <td>112542.58</td>\n",
       "      <td>0</td>\n",
       "    </tr>\n",
       "    <tr>\n",
       "      <th>2</th>\n",
       "      <td>15619304</td>\n",
       "      <td>502</td>\n",
       "      <td>France</td>\n",
       "      <td>Female</td>\n",
       "      <td>42</td>\n",
       "      <td>8</td>\n",
       "      <td>159660.80</td>\n",
       "      <td>3</td>\n",
       "      <td>1</td>\n",
       "      <td>0</td>\n",
       "      <td>113931.57</td>\n",
       "      <td>1</td>\n",
       "    </tr>\n",
       "    <tr>\n",
       "      <th>3</th>\n",
       "      <td>15701354</td>\n",
       "      <td>699</td>\n",
       "      <td>France</td>\n",
       "      <td>Female</td>\n",
       "      <td>39</td>\n",
       "      <td>1</td>\n",
       "      <td>0.00</td>\n",
       "      <td>2</td>\n",
       "      <td>0</td>\n",
       "      <td>0</td>\n",
       "      <td>93826.63</td>\n",
       "      <td>0</td>\n",
       "    </tr>\n",
       "    <tr>\n",
       "      <th>4</th>\n",
       "      <td>15737888</td>\n",
       "      <td>850</td>\n",
       "      <td>Spain</td>\n",
       "      <td>Female</td>\n",
       "      <td>43</td>\n",
       "      <td>2</td>\n",
       "      <td>125510.82</td>\n",
       "      <td>1</td>\n",
       "      <td>1</td>\n",
       "      <td>1</td>\n",
       "      <td>79084.10</td>\n",
       "      <td>0</td>\n",
       "    </tr>\n",
       "  </tbody>\n",
       "</table>\n",
       "</div>"
      ],
      "text/plain": [
       "   CustomerId  CreditScore Geography  Gender  Age  Tenure    Balance   \n",
       "0    15634602          619    France  Female   42       2       0.00  \\\n",
       "1    15647311          608     Spain  Female   41       1   83807.86   \n",
       "2    15619304          502    France  Female   42       8  159660.80   \n",
       "3    15701354          699    France  Female   39       1       0.00   \n",
       "4    15737888          850     Spain  Female   43       2  125510.82   \n",
       "\n",
       "   NumOfProducts  HasCrCard  IsActiveMember  EstimatedSalary  Exited  \n",
       "0              1          1               1        101348.88       1  \n",
       "1              1          0               1        112542.58       0  \n",
       "2              3          1               0        113931.57       1  \n",
       "3              2          0               0         93826.63       0  \n",
       "4              1          1               1         79084.10       0  "
      ]
     },
     "execution_count": 98,
     "metadata": {},
     "output_type": "execute_result"
    }
   ],
   "source": [
    "df = pd.read_csv('../raw_data/data.csv')\n",
    "df.drop(['RowNumber','Surname'],axis=1,inplace=True)\n",
    "df.head()"
   ]
  },
  {
   "cell_type": "code",
   "execution_count": 99,
   "id": "dfca2811",
   "metadata": {},
   "outputs": [
    {
     "data": {
      "text/plain": [
       "NumOfProducts\n",
       "1    5084\n",
       "2    4590\n",
       "3     266\n",
       "4      60\n",
       "Name: count, dtype: int64"
      ]
     },
     "execution_count": 99,
     "metadata": {},
     "output_type": "execute_result"
    }
   ],
   "source": [
    "\n",
    "df.NumOfProducts.value_counts()"
   ]
  },
  {
   "attachments": {},
   "cell_type": "markdown",
   "id": "eb3003c3",
   "metadata": {},
   "source": [
    "## Data Preprocessing"
   ]
  },
  {
   "attachments": {},
   "cell_type": "markdown",
   "id": "04356fac",
   "metadata": {},
   "source": [
    "### Outlier detection"
   ]
  },
  {
   "cell_type": "code",
   "execution_count": 100,
   "id": "8797cc4f",
   "metadata": {},
   "outputs": [
    {
     "data": {
      "image/png": "[encoded data removed]",
      "text/plain": [
       "<Figure size 1000x500 with 2 Axes>"
      ]
     },
     "metadata": {},
     "output_type": "display_data"
    }
   ],
   "source": [
    "fig, ax = plt.subplots(1,2,figsize=(10,5))\n",
    "\n",
    "ax[0].boxplot(df['Balance'])\n",
    "ax[0].set_title(\"Outlier detection for Balance\")\n",
    "\n",
    "ax[1].boxplot(df['EstimatedSalary'])\n",
    "ax[1].set_title('Outlier detection for EstimatedSalary')\n",
    "\n",
    "plt.show();"
   ]
  },
  {
   "attachments": {},
   "cell_type": "markdown",
   "id": "5f8d39d5",
   "metadata": {},
   "source": [
    "- Its look like there is no outlier in numerical analysis but for a machine learning pipeline in productin we will define a functionality which is robut to outliers. To handle outlier case in the dataset we are using `RobustScaler`. It is robust to outliers and range betweeen 1st quantile and 3rd quantile."
   ]
  },
  {
   "attachments": {},
   "cell_type": "markdown",
   "id": "cff0f4e4",
   "metadata": {},
   "source": [
    "### Class Imbalance\n",
    "- In EDA part we've already seen how classes are imbalance but lets see here again"
   ]
  },
  {
   "cell_type": "code",
   "execution_count": 101,
   "id": "18eacb70",
   "metadata": {},
   "outputs": [
    {
     "data": {
      "image/png": "[encoded data removed]",
      "text/plain": [
       "<Figure size 1000x800 with 1 Axes>"
      ]
     },
     "metadata": {},
     "output_type": "display_data"
    },
    {
     "data": {
      "text/plain": [
       "Exited\n",
       "0    0.7963\n",
       "1    0.2037\n",
       "Name: proportion, dtype: float64"
      ]
     },
     "execution_count": 101,
     "metadata": {},
     "output_type": "execute_result"
    }
   ],
   "source": [
    "plt.figure(figsize=(10,8))\n",
    "sns.countplot(x='Exited',data=df)\n",
    "plt.show();\n",
    "\n",
    "df['Exited'].value_counts(normalize=True)"
   ]
  },
  {
   "cell_type": "code",
   "execution_count": 102,
   "id": "3eb937f7",
   "metadata": {},
   "outputs": [],
   "source": [
    "## function to handle class imbalance\n",
    "def fix_class_imbalance(X,y):\n",
    "    print(f\"Before sampling: {Counter(y)}\")\n",
    "    sm = SMOTE()\n",
    "    X_train_sm, y_train_sm = sm.fit_resample(X,y)\n",
    "    \n",
    "    print(f\"After sampling: {Counter(y_train_sm)}\")\n",
    "    return X_train_sm, y_train_sm"
   ]
  },
  {
   "cell_type": "code",
   "execution_count": 103,
   "id": "3f64969a",
   "metadata": {},
   "outputs": [],
   "source": [
    "## splitting dataset into indepenedent and dependent variable\n",
    "X = df.iloc[:,:-1]\n",
    "y = df.iloc[:,-1]"
   ]
  },
  {
   "attachments": {},
   "cell_type": "markdown",
   "id": "f97d99aa",
   "metadata": {},
   "source": [
    "#### Create column transformer with 3 types of transformers"
   ]
  },
  {
   "cell_type": "code",
   "execution_count": 104,
   "id": "eaa7b6c8",
   "metadata": {},
   "outputs": [],
   "source": [
    "num_features = X.select_dtypes(exclude='object').columns\n",
    "cat_features = X.select_dtypes(include='object').columns\n",
    "\n",
    "numeric_transformer = RobustScaler()\n",
    "encoding_transformer = OneHotEncoder()\n",
    "\n",
    "preprocessor = ColumnTransformer(\n",
    "    [\n",
    "        ('OneHotEncoder',encoding_transformer,cat_features),\n",
    "        ('RobustScaler',numeric_transformer,num_features)\n",
    "    ]\n",
    ")"
   ]
  },
  {
   "cell_type": "code",
   "execution_count": 105,
   "id": "e1b58be6",
   "metadata": {},
   "outputs": [],
   "source": [
    "X = preprocessor.fit_transform(X)"
   ]
  },
  {
   "cell_type": "code",
   "execution_count": 106,
   "id": "d2c9fbec",
   "metadata": {},
   "outputs": [
    {
     "data": {
      "text/plain": [
       "((8000, 14), (8000,))"
      ]
     },
     "execution_count": 106,
     "metadata": {},
     "output_type": "execute_result"
    }
   ],
   "source": [
    "# Seperated dataset into train and test\n",
    "X_train, X_test, y_train, y_test = train_test_split(X,y,test_size=0.2,random_state=42)\n",
    "X_train.shape,y_train.shape"
   ]
  },
  {
   "cell_type": "code",
   "execution_count": 107,
   "id": "17221694",
   "metadata": {},
   "outputs": [
    {
     "name": "stdout",
     "output_type": "stream",
     "text": [
      "Before sampling: Counter({0: 6356, 1: 1644})\n",
      "After sampling: Counter({0: 6356, 1: 6356})\n"
     ]
    }
   ],
   "source": [
    "X_train_sm, y_train_sm = fix_class_imbalance(X_train, y_train)"
   ]
  },
  {
   "cell_type": "code",
   "execution_count": 108,
   "id": "69cce7dc",
   "metadata": {},
   "outputs": [
    {
     "data": {
      "text/plain": [
       "((12712, 14), (12712,), (2000, 14), (2000,))"
      ]
     },
     "execution_count": 108,
     "metadata": {},
     "output_type": "execute_result"
    }
   ],
   "source": [
    "X_train_sm.shape, y_train_sm.shape, X_test.shape, y_test.shape"
   ]
  },
  {
   "attachments": {},
   "cell_type": "markdown",
   "id": "5ffe0ad9",
   "metadata": {},
   "source": [
    "### Data Validation, Why we need?\n",
    "The model is trained on the training set, and its performance is evaluated on the validation set. The hyperparameters are tuned to improve the model's performance on the validation set. Once the hyperparameters are selected, the model is retrained on the combined training and validation sets and evaluated on the test set to estimate its performance on new, unseen data.\n",
    "\n",
    "Having a separate validation set helps ensure that the model generalizes well to new, unseen data and is not just memorizing the training set. This is important because the ultimate goal of a machine learning model is to make accurate predictions on new, unseen data."
   ]
  },
  {
   "cell_type": "code",
   "execution_count": 109,
   "id": "896f1c2a",
   "metadata": {},
   "outputs": [],
   "source": [
    "X_train,X_valid, y_train, y_valid = train_test_split(X_train,y_train,test_size=0.2,random_state=42)"
   ]
  },
  {
   "cell_type": "code",
   "execution_count": 110,
   "id": "447db824",
   "metadata": {},
   "outputs": [
    {
     "name": "stdout",
     "output_type": "stream",
     "text": [
      "X_train shape: (6400, 14)\n",
      "y_train shape: (6400,)\n",
      "X_valid shape: (1600, 14)\n",
      "y_valid shape: (1600,)\n"
     ]
    }
   ],
   "source": [
    "print(\"X_train shape:\", X_train.shape)\n",
    "print(\"y_train shape:\", y_train.shape)\n",
    "print(\"X_valid shape:\", X_valid.shape)\n",
    "print(\"y_valid shape:\", y_valid.shape)"
   ]
  },
  {
   "cell_type": "markdown",
   "id": "822ec687",
   "metadata": {},
   "source": [
    "## Model training and Evaluation"
   ]
  },
  {
   "cell_type": "code",
   "execution_count": 111,
   "id": "3831a7a8",
   "metadata": {},
   "outputs": [],
   "source": [
    "import sklearn.metrics as mt\n",
    "\n",
    "class train_and_evaluate():\n",
    "    def __init__(self,X_train,y_train,):\n",
    "        self.X_train = X_train\n",
    "        self.y_train = y_train\n",
    "\n",
    "    def train(self,model):\n",
    "        model.fit(self.X_train,self.y_train)\n",
    "        self.y_pred = model.predict(self.X_train)\n",
    "        return self.y_pred\n",
    "    \n",
    "    \n",
    "    def evaluate(self,train=True):\n",
    "        accuracy_score_ = mt.accuracy_score(self.y_train,self.y_pred)\n",
    "        precision_score_ = mt.precision_score(self.y_train,self.y_pred)\n",
    "        recall_score_ = mt.recall_score(self.y_train,self.y_pred)\n",
    "        f1_score_ = mt.f1_score(self.y_train,self.y_pred)\n",
    "        roc_auc_score_ = mt.roc_auc_score(self.y_train,self.y_pred)\n",
    "        return accuracy_score_, precision_score_, recall_score_,f1_score_, roc_auc_score_\n",
    "            \n",
    "        \n",
    "    def experiments(self,*args,**kwargs):\n",
    "        model_list = [*args]\n",
    "        model_names = list(map(lambda x: str(x).split('(')[0],model_list))\n",
    "        accuracy_scores = []\n",
    "        precision_scores = []\n",
    "        recall_scores = []\n",
    "        f1_scores = []\n",
    "        roc_auc_scores = []\n",
    "        for model in model_list:\n",
    "            self.train(model)\n",
    "            accuracy_score_, precision_score_, recall_score_,f1_score_, roc_auc_score_ = self.evaluate()\n",
    "            accuracy_scores.append(accuracy_score_)\n",
    "            precision_scores.append(precision_score_)\n",
    "            recall_scores.append(recall_score_)\n",
    "            f1_scores.append(f1_score_)\n",
    "            roc_auc_scores.append(roc_auc_score_)\n",
    "            results = pd.DataFrame(list(zip(model_names,accuracy_scores,precision_scores,recall_scores,f1_scores,roc_auc_scores)),\n",
    "                                   columns=['Model_Name','Accuracy','Precision','Recall','F1','ROC_AUC']).sort_values(by=['F1'],ascending=False)\n",
    "        return results"
   ]
  },
  {
   "attachments": {},
   "cell_type": "markdown",
   "id": "bd9e37ee",
   "metadata": {},
   "source": [
    "#### Experimenting on training set"
   ]
  },
  {
   "cell_type": "code",
   "execution_count": 112,
   "id": "c9d50e5b",
   "metadata": {},
   "outputs": [
    {
     "data": {
      "text/html": [
       "<div>\n",
       "<style scoped>\n",
       "    .dataframe tbody tr th:only-of-type {\n",
       "        vertical-align: middle;\n",
       "    }\n",
       "\n",
       "    .dataframe tbody tr th {\n",
       "        vertical-align: top;\n",
       "    }\n",
       "\n",
       "    .dataframe thead th {\n",
       "        text-align: right;\n",
       "    }\n",
       "</style>\n",
       "<table border=\"1\" class=\"dataframe\">\n",
       "  <thead>\n",
       "    <tr style=\"text-align: right;\">\n",
       "      <th></th>\n",
       "      <th>Model_Name</th>\n",
       "      <th>Accuracy</th>\n",
       "      <th>Precision</th>\n",
       "      <th>Recall</th>\n",
       "      <th>F1</th>\n",
       "      <th>ROC_AUC</th>\n",
       "    </tr>\n",
       "  </thead>\n",
       "  <tbody>\n",
       "    <tr>\n",
       "      <th>1</th>\n",
       "      <td>RandomForestClassifier</td>\n",
       "      <td>1.000000</td>\n",
       "      <td>1.000000</td>\n",
       "      <td>1.000000</td>\n",
       "      <td>1.000000</td>\n",
       "      <td>1.000000</td>\n",
       "    </tr>\n",
       "    <tr>\n",
       "      <th>0</th>\n",
       "      <td>XGBClassifier</td>\n",
       "      <td>0.974531</td>\n",
       "      <td>0.991482</td>\n",
       "      <td>0.883827</td>\n",
       "      <td>0.934564</td>\n",
       "      <td>0.940930</td>\n",
       "    </tr>\n",
       "    <tr>\n",
       "      <th>2</th>\n",
       "      <td>LGBMClassifier</td>\n",
       "      <td>0.926094</td>\n",
       "      <td>0.941423</td>\n",
       "      <td>0.683371</td>\n",
       "      <td>0.791905</td>\n",
       "      <td>0.836177</td>\n",
       "    </tr>\n",
       "    <tr>\n",
       "      <th>5</th>\n",
       "      <td>KNeighborsClassifier</td>\n",
       "      <td>0.868125</td>\n",
       "      <td>0.797484</td>\n",
       "      <td>0.481397</td>\n",
       "      <td>0.600379</td>\n",
       "      <td>0.724861</td>\n",
       "    </tr>\n",
       "    <tr>\n",
       "      <th>3</th>\n",
       "      <td>SVC</td>\n",
       "      <td>0.864688</td>\n",
       "      <td>0.875208</td>\n",
       "      <td>0.399393</td>\n",
       "      <td>0.548488</td>\n",
       "      <td>0.692319</td>\n",
       "    </tr>\n",
       "    <tr>\n",
       "      <th>6</th>\n",
       "      <td>BernoulliNB</td>\n",
       "      <td>0.797188</td>\n",
       "      <td>0.512322</td>\n",
       "      <td>0.299924</td>\n",
       "      <td>0.378352</td>\n",
       "      <td>0.612976</td>\n",
       "    </tr>\n",
       "    <tr>\n",
       "      <th>4</th>\n",
       "      <td>LogisticRegression</td>\n",
       "      <td>0.811250</td>\n",
       "      <td>0.619256</td>\n",
       "      <td>0.214882</td>\n",
       "      <td>0.319053</td>\n",
       "      <td>0.590325</td>\n",
       "    </tr>\n",
       "  </tbody>\n",
       "</table>\n",
       "</div>"
      ],
      "text/plain": [
       "               Model_Name  Accuracy  Precision    Recall        F1   ROC_AUC\n",
       "1  RandomForestClassifier  1.000000   1.000000  1.000000  1.000000  1.000000\n",
       "0           XGBClassifier  0.974531   0.991482  0.883827  0.934564  0.940930\n",
       "2          LGBMClassifier  0.926094   0.941423  0.683371  0.791905  0.836177\n",
       "5    KNeighborsClassifier  0.868125   0.797484  0.481397  0.600379  0.724861\n",
       "3                     SVC  0.864688   0.875208  0.399393  0.548488  0.692319\n",
       "6             BernoulliNB  0.797188   0.512322  0.299924  0.378352  0.612976\n",
       "4      LogisticRegression  0.811250   0.619256  0.214882  0.319053  0.590325"
      ]
     },
     "execution_count": 112,
     "metadata": {},
     "output_type": "execute_result"
    }
   ],
   "source": [
    "model_exp_train = train_and_evaluate(X_train,y_train)\n",
    "model_exp_train.experiments(XGBClassifier(),RandomForestClassifier(),LGBMClassifier(),SVC(),LogisticRegression(),KNeighborsClassifier(),BernoulliNB()) "
   ]
  },
  {
   "attachments": {},
   "cell_type": "markdown",
   "id": "b8db261c",
   "metadata": {},
   "source": [
    "#### Experimenting on validation set "
   ]
  },
  {
   "cell_type": "code",
   "execution_count": 113,
   "id": "a39e91a5",
   "metadata": {},
   "outputs": [
    {
     "data": {
      "text/html": [
       "<div>\n",
       "<style scoped>\n",
       "    .dataframe tbody tr th:only-of-type {\n",
       "        vertical-align: middle;\n",
       "    }\n",
       "\n",
       "    .dataframe tbody tr th {\n",
       "        vertical-align: top;\n",
       "    }\n",
       "\n",
       "    .dataframe thead th {\n",
       "        text-align: right;\n",
       "    }\n",
       "</style>\n",
       "<table border=\"1\" class=\"dataframe\">\n",
       "  <thead>\n",
       "    <tr style=\"text-align: right;\">\n",
       "      <th></th>\n",
       "      <th>Model_Name</th>\n",
       "      <th>Accuracy</th>\n",
       "      <th>Precision</th>\n",
       "      <th>Recall</th>\n",
       "      <th>F1</th>\n",
       "      <th>ROC_AUC</th>\n",
       "    </tr>\n",
       "  </thead>\n",
       "  <tbody>\n",
       "    <tr>\n",
       "      <th>0</th>\n",
       "      <td>XGBClassifier</td>\n",
       "      <td>1.000000</td>\n",
       "      <td>1.000000</td>\n",
       "      <td>1.000000</td>\n",
       "      <td>1.000000</td>\n",
       "      <td>1.000000</td>\n",
       "    </tr>\n",
       "    <tr>\n",
       "      <th>1</th>\n",
       "      <td>RandomForestClassifier</td>\n",
       "      <td>1.000000</td>\n",
       "      <td>1.000000</td>\n",
       "      <td>1.000000</td>\n",
       "      <td>1.000000</td>\n",
       "      <td>1.000000</td>\n",
       "    </tr>\n",
       "    <tr>\n",
       "      <th>2</th>\n",
       "      <td>LGBMClassifier</td>\n",
       "      <td>1.000000</td>\n",
       "      <td>1.000000</td>\n",
       "      <td>1.000000</td>\n",
       "      <td>1.000000</td>\n",
       "      <td>1.000000</td>\n",
       "    </tr>\n",
       "    <tr>\n",
       "      <th>5</th>\n",
       "      <td>KNeighborsClassifier</td>\n",
       "      <td>0.866250</td>\n",
       "      <td>0.808743</td>\n",
       "      <td>0.452599</td>\n",
       "      <td>0.580392</td>\n",
       "      <td>0.712553</td>\n",
       "    </tr>\n",
       "    <tr>\n",
       "      <th>3</th>\n",
       "      <td>SVC</td>\n",
       "      <td>0.870000</td>\n",
       "      <td>0.878981</td>\n",
       "      <td>0.422018</td>\n",
       "      <td>0.570248</td>\n",
       "      <td>0.703546</td>\n",
       "    </tr>\n",
       "    <tr>\n",
       "      <th>6</th>\n",
       "      <td>BernoulliNB</td>\n",
       "      <td>0.789375</td>\n",
       "      <td>0.477064</td>\n",
       "      <td>0.318043</td>\n",
       "      <td>0.381651</td>\n",
       "      <td>0.614245</td>\n",
       "    </tr>\n",
       "    <tr>\n",
       "      <th>4</th>\n",
       "      <td>LogisticRegression</td>\n",
       "      <td>0.808125</td>\n",
       "      <td>0.581967</td>\n",
       "      <td>0.217125</td>\n",
       "      <td>0.316258</td>\n",
       "      <td>0.588531</td>\n",
       "    </tr>\n",
       "  </tbody>\n",
       "</table>\n",
       "</div>"
      ],
      "text/plain": [
       "               Model_Name  Accuracy  Precision    Recall        F1   ROC_AUC\n",
       "0           XGBClassifier  1.000000   1.000000  1.000000  1.000000  1.000000\n",
       "1  RandomForestClassifier  1.000000   1.000000  1.000000  1.000000  1.000000\n",
       "2          LGBMClassifier  1.000000   1.000000  1.000000  1.000000  1.000000\n",
       "5    KNeighborsClassifier  0.866250   0.808743  0.452599  0.580392  0.712553\n",
       "3                     SVC  0.870000   0.878981  0.422018  0.570248  0.703546\n",
       "6             BernoulliNB  0.789375   0.477064  0.318043  0.381651  0.614245\n",
       "4      LogisticRegression  0.808125   0.581967  0.217125  0.316258  0.588531"
      ]
     },
     "execution_count": 113,
     "metadata": {},
     "output_type": "execute_result"
    }
   ],
   "source": [
    "model_exp = train_and_evaluate(X_valid,y_valid)\n",
    "model_exp.experiments(XGBClassifier(),RandomForestClassifier(),LGBMClassifier(),SVC(),LogisticRegression(),KNeighborsClassifier(),BernoulliNB())"
   ]
  },
  {
   "attachments": {},
   "cell_type": "markdown",
   "id": "401662cb",
   "metadata": {},
   "source": [
    "#### Experimenting on unseen test data"
   ]
  },
  {
   "cell_type": "code",
   "execution_count": 114,
   "id": "e19ff150",
   "metadata": {},
   "outputs": [
    {
     "data": {
      "text/html": [
       "<div>\n",
       "<style scoped>\n",
       "    .dataframe tbody tr th:only-of-type {\n",
       "        vertical-align: middle;\n",
       "    }\n",
       "\n",
       "    .dataframe tbody tr th {\n",
       "        vertical-align: top;\n",
       "    }\n",
       "\n",
       "    .dataframe thead th {\n",
       "        text-align: right;\n",
       "    }\n",
       "</style>\n",
       "<table border=\"1\" class=\"dataframe\">\n",
       "  <thead>\n",
       "    <tr style=\"text-align: right;\">\n",
       "      <th></th>\n",
       "      <th>Model_Name</th>\n",
       "      <th>Accuracy</th>\n",
       "      <th>Precision</th>\n",
       "      <th>Recall</th>\n",
       "      <th>F1</th>\n",
       "      <th>ROC_AUC</th>\n",
       "    </tr>\n",
       "  </thead>\n",
       "  <tbody>\n",
       "    <tr>\n",
       "      <th>0</th>\n",
       "      <td>XGBClassifier</td>\n",
       "      <td>1.0000</td>\n",
       "      <td>1.000000</td>\n",
       "      <td>1.000000</td>\n",
       "      <td>1.000000</td>\n",
       "      <td>1.000000</td>\n",
       "    </tr>\n",
       "    <tr>\n",
       "      <th>1</th>\n",
       "      <td>RandomForestClassifier</td>\n",
       "      <td>1.0000</td>\n",
       "      <td>1.000000</td>\n",
       "      <td>1.000000</td>\n",
       "      <td>1.000000</td>\n",
       "      <td>1.000000</td>\n",
       "    </tr>\n",
       "    <tr>\n",
       "      <th>2</th>\n",
       "      <td>LGBMClassifier</td>\n",
       "      <td>0.9985</td>\n",
       "      <td>1.000000</td>\n",
       "      <td>0.992366</td>\n",
       "      <td>0.996169</td>\n",
       "      <td>0.996183</td>\n",
       "    </tr>\n",
       "    <tr>\n",
       "      <th>3</th>\n",
       "      <td>SVC</td>\n",
       "      <td>0.8740</td>\n",
       "      <td>0.898305</td>\n",
       "      <td>0.404580</td>\n",
       "      <td>0.557895</td>\n",
       "      <td>0.696690</td>\n",
       "    </tr>\n",
       "    <tr>\n",
       "      <th>5</th>\n",
       "      <td>KNeighborsClassifier</td>\n",
       "      <td>0.8555</td>\n",
       "      <td>0.768041</td>\n",
       "      <td>0.379135</td>\n",
       "      <td>0.507666</td>\n",
       "      <td>0.675566</td>\n",
       "    </tr>\n",
       "    <tr>\n",
       "      <th>6</th>\n",
       "      <td>BernoulliNB</td>\n",
       "      <td>0.8010</td>\n",
       "      <td>0.488479</td>\n",
       "      <td>0.269720</td>\n",
       "      <td>0.347541</td>\n",
       "      <td>0.600324</td>\n",
       "    </tr>\n",
       "    <tr>\n",
       "      <th>4</th>\n",
       "      <td>LogisticRegression</td>\n",
       "      <td>0.8120</td>\n",
       "      <td>0.562044</td>\n",
       "      <td>0.195929</td>\n",
       "      <td>0.290566</td>\n",
       "      <td>0.579296</td>\n",
       "    </tr>\n",
       "  </tbody>\n",
       "</table>\n",
       "</div>"
      ],
      "text/plain": [
       "               Model_Name  Accuracy  Precision    Recall        F1   ROC_AUC\n",
       "0           XGBClassifier    1.0000   1.000000  1.000000  1.000000  1.000000\n",
       "1  RandomForestClassifier    1.0000   1.000000  1.000000  1.000000  1.000000\n",
       "2          LGBMClassifier    0.9985   1.000000  0.992366  0.996169  0.996183\n",
       "3                     SVC    0.8740   0.898305  0.404580  0.557895  0.696690\n",
       "5    KNeighborsClassifier    0.8555   0.768041  0.379135  0.507666  0.675566\n",
       "6             BernoulliNB    0.8010   0.488479  0.269720  0.347541  0.600324\n",
       "4      LogisticRegression    0.8120   0.562044  0.195929  0.290566  0.579296"
      ]
     },
     "execution_count": 114,
     "metadata": {},
     "output_type": "execute_result"
    }
   ],
   "source": [
    "model_exp = train_and_evaluate(X_test,y_test)\n",
    "model_exp.experiments(XGBClassifier(),RandomForestClassifier(),LGBMClassifier(),SVC(),LogisticRegression(),KNeighborsClassifier(),BernoulliNB())"
   ]
  }
 ],
 "metadata": {
  "kernelspec": {
   "display_name": "cuda",
   "language": "python",
   "name": "python3"
  },
  "language_info": {
   "codemirror_mode": {
    "name": "ipython",
    "version": 3
   },
   "file_extension": ".py",
   "mimetype": "text/x-python",
   "name": "python",
   "nbconvert_exporter": "python",
   "pygments_lexer": "ipython3",
   "version": "3.9.16"
  }
 },
 "nbformat": 4,
 "nbformat_minor": 5
}
