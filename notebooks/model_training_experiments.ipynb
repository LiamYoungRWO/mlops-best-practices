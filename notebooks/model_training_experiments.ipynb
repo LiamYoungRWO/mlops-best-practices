{
 "cells": [
  {
   "cell_type": "code",
   "execution_count": 71,
   "id": "dd418ad4",
   "metadata": {},
   "outputs": [],
   "source": [
    "import numpy as np \n",
    "import pandas as pd\n",
    "import json\n",
    "import joblib\n",
    "import os\n",
    "import seaborn as sns\n",
    "import matplotlib.pyplot as plt\n",
    "from collections import Counter\n",
    "\n",
    "\n",
    "from sklearn.model_selection import train_test_split, RandomizedSearchCV\n",
    "from imblearn.over_sampling import SMOTE\n",
    "from sklearn.preprocessing import OneHotEncoder, StandardScaler, RobustScaler, OrdinalEncoder, MinMaxScaler\n",
    "from sklearn.compose import ColumnTransformer\n",
    "from sklearn.impute import SimpleImputer\n",
    "from sklearn.pipeline import Pipeline\n",
    "from sklearn.feature_selection import mutual_info_classif\n",
    "\n",
    "\n",
    "from sklearn.svm import SVC\n",
    "from sklearn.linear_model import LogisticRegression\n",
    "from sklearn.neighbors import KNeighborsClassifier\n",
    "from sklearn.ensemble import RandomForestClassifier, AdaBoostClassifier\n",
    "from sklearn.naive_bayes import BernoulliNB\n",
    "from xgboost import XGBClassifier\n",
    "from catboost import CatBoostClassifier\n",
    "from lightgbm import LGBMClassifier"
   ]
  },
  {
   "cell_type": "code",
   "execution_count": 187,
   "id": "094bb0a0",
   "metadata": {},
   "outputs": [
    {
     "data": {
      "text/html": [
       "<div>\n",
       "<style scoped>\n",
       "    .dataframe tbody tr th:only-of-type {\n",
       "        vertical-align: middle;\n",
       "    }\n",
       "\n",
       "    .dataframe tbody tr th {\n",
       "        vertical-align: top;\n",
       "    }\n",
       "\n",
       "    .dataframe thead th {\n",
       "        text-align: right;\n",
       "    }\n",
       "</style>\n",
       "<table border=\"1\" class=\"dataframe\">\n",
       "  <thead>\n",
       "    <tr style=\"text-align: right;\">\n",
       "      <th></th>\n",
       "      <th>CreditScore</th>\n",
       "      <th>Geography</th>\n",
       "      <th>Gender</th>\n",
       "      <th>Age</th>\n",
       "      <th>Tenure</th>\n",
       "      <th>Balance</th>\n",
       "      <th>NumOfProducts</th>\n",
       "      <th>HasCrCard</th>\n",
       "      <th>IsActiveMember</th>\n",
       "      <th>EstimatedSalary</th>\n",
       "      <th>Exited</th>\n",
       "    </tr>\n",
       "  </thead>\n",
       "  <tbody>\n",
       "    <tr>\n",
       "      <th>0</th>\n",
       "      <td>619</td>\n",
       "      <td>France</td>\n",
       "      <td>Female</td>\n",
       "      <td>42</td>\n",
       "      <td>2</td>\n",
       "      <td>0.00</td>\n",
       "      <td>1</td>\n",
       "      <td>1</td>\n",
       "      <td>1</td>\n",
       "      <td>101348.88</td>\n",
       "      <td>1</td>\n",
       "    </tr>\n",
       "    <tr>\n",
       "      <th>1</th>\n",
       "      <td>608</td>\n",
       "      <td>Spain</td>\n",
       "      <td>Female</td>\n",
       "      <td>41</td>\n",
       "      <td>1</td>\n",
       "      <td>83807.86</td>\n",
       "      <td>1</td>\n",
       "      <td>0</td>\n",
       "      <td>1</td>\n",
       "      <td>112542.58</td>\n",
       "      <td>0</td>\n",
       "    </tr>\n",
       "    <tr>\n",
       "      <th>2</th>\n",
       "      <td>502</td>\n",
       "      <td>France</td>\n",
       "      <td>Female</td>\n",
       "      <td>42</td>\n",
       "      <td>8</td>\n",
       "      <td>159660.80</td>\n",
       "      <td>3</td>\n",
       "      <td>1</td>\n",
       "      <td>0</td>\n",
       "      <td>113931.57</td>\n",
       "      <td>1</td>\n",
       "    </tr>\n",
       "    <tr>\n",
       "      <th>3</th>\n",
       "      <td>699</td>\n",
       "      <td>France</td>\n",
       "      <td>Female</td>\n",
       "      <td>39</td>\n",
       "      <td>1</td>\n",
       "      <td>0.00</td>\n",
       "      <td>2</td>\n",
       "      <td>0</td>\n",
       "      <td>0</td>\n",
       "      <td>93826.63</td>\n",
       "      <td>0</td>\n",
       "    </tr>\n",
       "    <tr>\n",
       "      <th>4</th>\n",
       "      <td>850</td>\n",
       "      <td>Spain</td>\n",
       "      <td>Female</td>\n",
       "      <td>43</td>\n",
       "      <td>2</td>\n",
       "      <td>125510.82</td>\n",
       "      <td>1</td>\n",
       "      <td>1</td>\n",
       "      <td>1</td>\n",
       "      <td>79084.10</td>\n",
       "      <td>0</td>\n",
       "    </tr>\n",
       "  </tbody>\n",
       "</table>\n",
       "</div>"
      ],
      "text/plain": [
       "   CreditScore Geography  Gender  Age  Tenure    Balance  NumOfProducts   \n",
       "0          619    France  Female   42       2       0.00              1  \\\n",
       "1          608     Spain  Female   41       1   83807.86              1   \n",
       "2          502    France  Female   42       8  159660.80              3   \n",
       "3          699    France  Female   39       1       0.00              2   \n",
       "4          850     Spain  Female   43       2  125510.82              1   \n",
       "\n",
       "   HasCrCard  IsActiveMember  EstimatedSalary  Exited  \n",
       "0          1               1        101348.88       1  \n",
       "1          0               1        112542.58       0  \n",
       "2          1               0        113931.57       1  \n",
       "3          0               0         93826.63       0  \n",
       "4          1               1         79084.10       0  "
      ]
     },
     "execution_count": 187,
     "metadata": {},
     "output_type": "execute_result"
    }
   ],
   "source": [
    "df = pd.read_csv('../synthetic_data/synthetic_data.csv')\n",
    "df.drop(['RowNumber','Surname','CustomerId'],axis=1,inplace=True)\n",
    "df.head()"
   ]
  },
  {
   "cell_type": "code",
   "execution_count": 188,
   "id": "f3582a6d",
   "metadata": {},
   "outputs": [
    {
     "data": {
      "text/plain": [
       "CreditScore        0\n",
       "Geography          0\n",
       "Gender             0\n",
       "Age                0\n",
       "Tenure             0\n",
       "Balance            0\n",
       "NumOfProducts      0\n",
       "HasCrCard          0\n",
       "IsActiveMember     0\n",
       "EstimatedSalary    0\n",
       "Exited             0\n",
       "dtype: int64"
      ]
     },
     "execution_count": 188,
     "metadata": {},
     "output_type": "execute_result"
    }
   ],
   "source": [
    "df.isna().sum()"
   ]
  },
  {
   "attachments": {},
   "cell_type": "markdown",
   "id": "eb3003c3",
   "metadata": {},
   "source": [
    "## Data Preprocessing"
   ]
  },
  {
   "attachments": {},
   "cell_type": "markdown",
   "id": "04356fac",
   "metadata": {},
   "source": [
    "### Outlier detection"
   ]
  },
  {
   "cell_type": "code",
   "execution_count": 189,
   "id": "8797cc4f",
   "metadata": {},
   "outputs": [
    {
     "data": {
      "image/png": "[encoded data removed]",
      "text/plain": [
       "<Figure size 1000x500 with 2 Axes>"
      ]
     },
     "metadata": {},
     "output_type": "display_data"
    }
   ],
   "source": [
    "fig, ax = plt.subplots(1,2,figsize=(10,5))\n",
    "\n",
    "ax[0].boxplot(df['Balance'])\n",
    "ax[0].set_title(\"Outlier detection for Balance\")\n",
    "\n",
    "ax[1].boxplot(df['EstimatedSalary'])\n",
    "ax[1].set_title('Outlier detection for EstimatedSalary')\n",
    "\n",
    "\n",
    "plt.show();"
   ]
  },
  {
   "attachments": {},
   "cell_type": "markdown",
   "id": "5f8d39d5",
   "metadata": {},
   "source": [
    "- Its look like there is no outlier in numerical analysis but for a machine learning pipeline in productin we will define a functionality which is robut to outliers. To handle outlier case in the dataset we are applying `flooring and capping IQR` method "
   ]
  },
  {
   "attachments": {},
   "cell_type": "markdown",
   "id": "cff0f4e4",
   "metadata": {},
   "source": [
    "### Class Imbalance\n",
    "- In EDA part we've already seen how classes are imbalance but lets see here again"
   ]
  },
  {
   "cell_type": "code",
   "execution_count": 190,
   "id": "18eacb70",
   "metadata": {},
   "outputs": [
    {
     "data": {
      "image/png": "[encoded data removed]",
      "text/plain": [
       "<Figure size 1000x800 with 1 Axes>"
      ]
     },
     "metadata": {},
     "output_type": "display_data"
    },
    {
     "data": {
      "text/plain": [
       "Exited\n",
       "0    0.64365\n",
       "1    0.35635\n",
       "Name: proportion, dtype: float64"
      ]
     },
     "execution_count": 190,
     "metadata": {},
     "output_type": "execute_result"
    }
   ],
   "source": [
    "plt.figure(figsize=(10,8))\n",
    "sns.countplot(x='Exited',data=df)\n",
    "plt.show();\n",
    "\n",
    "df['Exited'].value_counts(normalize=True)"
   ]
  },
  {
   "cell_type": "code",
   "execution_count": 191,
   "id": "3eb937f7",
   "metadata": {},
   "outputs": [],
   "source": [
    "## function to handle class imbalance\n",
    "def fix_class_imbalance(X,y):\n",
    "    print(f\"Before sampling: {Counter(y)}\")\n",
    "    sm = SMOTE()\n",
    "    X_train_sm, y_train_sm = sm.fit_resample(X,y)\n",
    "    \n",
    "    print(f\"After sampling: {Counter(y_train_sm)}\")\n",
    "    return X_train_sm, y_train_sm"
   ]
  },
  {
   "cell_type": "code",
   "execution_count": 192,
   "id": "00a0dbee",
   "metadata": {},
   "outputs": [],
   "source": [
    "## flooring and clapping of outliers\n",
    "\n",
    "def outlier_detection(X):\n",
    "    Q1 = X.quantile(0.25)\n",
    "    Q3 = X.quantile(0.75)\n",
    "    IQR = Q3 - Q1\n",
    "    lower_bound = Q1 - 1.5 * IQR\n",
    "    upper_bound = Q3 + 1.5 * IQR    \n",
    "    \n",
    "    X_outliers = X.copy()\n",
    "    X_outliers[X < lower_bound] = Q1  \n",
    "    X_outliers[X > upper_bound] = Q3\n",
    "    \n",
    "    return X_outliers "
   ]
  },
  {
   "cell_type": "code",
   "execution_count": 193,
   "id": "3f64969a",
   "metadata": {},
   "outputs": [],
   "source": [
    "## splitting dataset into indepenedent and dependent variable\n",
    "X = df.iloc[:,:-1]\n",
    "y = df.iloc[:,-1]"
   ]
  },
  {
   "cell_type": "code",
   "execution_count": 194,
   "id": "970b308a",
   "metadata": {},
   "outputs": [
    {
     "data": {
      "text/html": [
       "<div>\n",
       "<style scoped>\n",
       "    .dataframe tbody tr th:only-of-type {\n",
       "        vertical-align: middle;\n",
       "    }\n",
       "\n",
       "    .dataframe tbody tr th {\n",
       "        vertical-align: top;\n",
       "    }\n",
       "\n",
       "    .dataframe thead th {\n",
       "        text-align: right;\n",
       "    }\n",
       "</style>\n",
       "<table border=\"1\" class=\"dataframe\">\n",
       "  <thead>\n",
       "    <tr style=\"text-align: right;\">\n",
       "      <th></th>\n",
       "      <th>CreditScore</th>\n",
       "      <th>Age</th>\n",
       "      <th>Tenure</th>\n",
       "      <th>Balance</th>\n",
       "      <th>NumOfProducts</th>\n",
       "      <th>HasCrCard</th>\n",
       "      <th>IsActiveMember</th>\n",
       "      <th>EstimatedSalary</th>\n",
       "    </tr>\n",
       "  </thead>\n",
       "  <tbody>\n",
       "    <tr>\n",
       "      <th>0</th>\n",
       "      <td>619</td>\n",
       "      <td>42</td>\n",
       "      <td>2</td>\n",
       "      <td>0.00</td>\n",
       "      <td>1</td>\n",
       "      <td>1</td>\n",
       "      <td>1</td>\n",
       "      <td>101348.88</td>\n",
       "    </tr>\n",
       "    <tr>\n",
       "      <th>1</th>\n",
       "      <td>608</td>\n",
       "      <td>41</td>\n",
       "      <td>1</td>\n",
       "      <td>83807.86</td>\n",
       "      <td>1</td>\n",
       "      <td>0</td>\n",
       "      <td>1</td>\n",
       "      <td>112542.58</td>\n",
       "    </tr>\n",
       "    <tr>\n",
       "      <th>2</th>\n",
       "      <td>502</td>\n",
       "      <td>42</td>\n",
       "      <td>8</td>\n",
       "      <td>159660.80</td>\n",
       "      <td>3</td>\n",
       "      <td>1</td>\n",
       "      <td>0</td>\n",
       "      <td>113931.57</td>\n",
       "    </tr>\n",
       "    <tr>\n",
       "      <th>3</th>\n",
       "      <td>699</td>\n",
       "      <td>39</td>\n",
       "      <td>1</td>\n",
       "      <td>0.00</td>\n",
       "      <td>2</td>\n",
       "      <td>0</td>\n",
       "      <td>0</td>\n",
       "      <td>93826.63</td>\n",
       "    </tr>\n",
       "    <tr>\n",
       "      <th>4</th>\n",
       "      <td>850</td>\n",
       "      <td>43</td>\n",
       "      <td>2</td>\n",
       "      <td>125510.82</td>\n",
       "      <td>1</td>\n",
       "      <td>1</td>\n",
       "      <td>1</td>\n",
       "      <td>79084.10</td>\n",
       "    </tr>\n",
       "    <tr>\n",
       "      <th>...</th>\n",
       "      <td>...</td>\n",
       "      <td>...</td>\n",
       "      <td>...</td>\n",
       "      <td>...</td>\n",
       "      <td>...</td>\n",
       "      <td>...</td>\n",
       "      <td>...</td>\n",
       "      <td>...</td>\n",
       "    </tr>\n",
       "    <tr>\n",
       "      <th>19995</th>\n",
       "      <td>803</td>\n",
       "      <td>94</td>\n",
       "      <td>4</td>\n",
       "      <td>452.30</td>\n",
       "      <td>2</td>\n",
       "      <td>0</td>\n",
       "      <td>1</td>\n",
       "      <td>185355.82</td>\n",
       "    </tr>\n",
       "    <tr>\n",
       "      <th>19996</th>\n",
       "      <td>848</td>\n",
       "      <td>33</td>\n",
       "      <td>4</td>\n",
       "      <td>149782.76</td>\n",
       "      <td>2</td>\n",
       "      <td>0</td>\n",
       "      <td>0</td>\n",
       "      <td>13517.92</td>\n",
       "    </tr>\n",
       "    <tr>\n",
       "      <th>19997</th>\n",
       "      <td>755</td>\n",
       "      <td>40</td>\n",
       "      <td>6</td>\n",
       "      <td>2944.13</td>\n",
       "      <td>4</td>\n",
       "      <td>0</td>\n",
       "      <td>0</td>\n",
       "      <td>47038.84</td>\n",
       "    </tr>\n",
       "    <tr>\n",
       "      <th>19998</th>\n",
       "      <td>528</td>\n",
       "      <td>39</td>\n",
       "      <td>2</td>\n",
       "      <td>190849.86</td>\n",
       "      <td>2</td>\n",
       "      <td>1</td>\n",
       "      <td>1</td>\n",
       "      <td>174252.76</td>\n",
       "    </tr>\n",
       "    <tr>\n",
       "      <th>19999</th>\n",
       "      <td>325</td>\n",
       "      <td>25</td>\n",
       "      <td>7</td>\n",
       "      <td>191856.13</td>\n",
       "      <td>4</td>\n",
       "      <td>1</td>\n",
       "      <td>0</td>\n",
       "      <td>157684.03</td>\n",
       "    </tr>\n",
       "  </tbody>\n",
       "</table>\n",
       "<p>20000 rows × 8 columns</p>\n",
       "</div>"
      ],
      "text/plain": [
       "       CreditScore  Age  Tenure    Balance  NumOfProducts  HasCrCard   \n",
       "0              619   42       2       0.00              1          1  \\\n",
       "1              608   41       1   83807.86              1          0   \n",
       "2              502   42       8  159660.80              3          1   \n",
       "3              699   39       1       0.00              2          0   \n",
       "4              850   43       2  125510.82              1          1   \n",
       "...            ...  ...     ...        ...            ...        ...   \n",
       "19995          803   94       4     452.30              2          0   \n",
       "19996          848   33       4  149782.76              2          0   \n",
       "19997          755   40       6    2944.13              4          0   \n",
       "19998          528   39       2  190849.86              2          1   \n",
       "19999          325   25       7  191856.13              4          1   \n",
       "\n",
       "       IsActiveMember  EstimatedSalary  \n",
       "0                   1        101348.88  \n",
       "1                   1        112542.58  \n",
       "2                   0        113931.57  \n",
       "3                   0         93826.63  \n",
       "4                   1         79084.10  \n",
       "...               ...              ...  \n",
       "19995               1        185355.82  \n",
       "19996               0         13517.92  \n",
       "19997               0         47038.84  \n",
       "19998               1        174252.76  \n",
       "19999               0        157684.03  \n",
       "\n",
       "[20000 rows x 8 columns]"
      ]
     },
     "execution_count": 194,
     "metadata": {},
     "output_type": "execute_result"
    }
   ],
   "source": [
    "num_features = X.select_dtypes(exclude='object').columns.tolist()\n",
    "X[num_features].apply(outlier_detection)"
   ]
  },
  {
   "attachments": {},
   "cell_type": "markdown",
   "id": "f97d99aa",
   "metadata": {},
   "source": [
    "#### Create column transformer with 3 types of transformers"
   ]
  },
  {
   "cell_type": "code",
   "execution_count": 195,
   "id": "e6052742",
   "metadata": {},
   "outputs": [
    {
     "name": "stdout",
     "output_type": "stream",
     "text": [
      "['CreditScore', 'Age', 'Tenure', 'Balance', 'NumOfProducts', 'HasCrCard', 'IsActiveMember', 'EstimatedSalary']\n",
      "['Geography', 'Gender']\n"
     ]
    }
   ],
   "source": [
    "cat_features = X.select_dtypes(include='object').columns.tolist()\n",
    "print(num_features)\n",
    "print(cat_features)"
   ]
  },
  {
   "cell_type": "code",
   "execution_count": 196,
   "id": "eaa7b6c8",
   "metadata": {},
   "outputs": [],
   "source": [
    "numeric_transformer = RobustScaler()\n",
    "encoding_transformer = OrdinalEncoder()\n",
    "\n",
    "numerical_pipeline = Pipeline(\n",
    "                steps=[\n",
    "                    (\"imputer\",SimpleImputer(strategy=\"median\")),\n",
    "                    ('scaler',StandardScaler(with_mean=False))\n",
    "                ]\n",
    "            )\n",
    "            \n",
    "categorical_pipeline = Pipeline(\n",
    "    steps=[\n",
    "        ('imputer',SimpleImputer(strategy='most_frequent')),\n",
    "        ('one_hot_encoder',OneHotEncoder()),\n",
    "        ('scaler',StandardScaler(with_mean=False))\n",
    "    ]\n",
    ")\n",
    "\n",
    "preprocessor = ColumnTransformer(\n",
    "                [\n",
    "                    (\"num_pipeline\",numerical_pipeline,num_features),\n",
    "                    (\"cat_pipeline\",categorical_pipeline,cat_features)\n",
    "                ]\n",
    "            )"
   ]
  },
  {
   "cell_type": "code",
   "execution_count": 197,
   "id": "e1b58be6",
   "metadata": {},
   "outputs": [],
   "source": [
    "X = preprocessor.fit_transform(X)"
   ]
  },
  {
   "cell_type": "code",
   "execution_count": 198,
   "id": "488237a3",
   "metadata": {},
   "outputs": [
    {
     "data": {
      "text/plain": [
       "(20000, 13)"
      ]
     },
     "execution_count": 198,
     "metadata": {},
     "output_type": "execute_result"
    }
   ],
   "source": [
    "X.shape"
   ]
  },
  {
   "cell_type": "code",
   "execution_count": 199,
   "id": "d2c9fbec",
   "metadata": {},
   "outputs": [
    {
     "data": {
      "text/plain": [
       "((16000, 13), (16000,))"
      ]
     },
     "execution_count": 199,
     "metadata": {},
     "output_type": "execute_result"
    }
   ],
   "source": [
    "# Seperated dataset into train and test\n",
    "X_train, X_test, y_train, y_test = train_test_split(X,y,test_size=0.2,random_state=42)\n",
    "X_train.shape,y_train.shape"
   ]
  },
  {
   "cell_type": "code",
   "execution_count": 200,
   "id": "17221694",
   "metadata": {},
   "outputs": [
    {
     "name": "stdout",
     "output_type": "stream",
     "text": [
      "Before sampling: Counter({0: 10292, 1: 5708})\n",
      "After sampling: Counter({0: 10292, 1: 10292})\n"
     ]
    }
   ],
   "source": [
    "X_train_sm, y_train_sm = fix_class_imbalance(X_train, y_train)"
   ]
  },
  {
   "cell_type": "code",
   "execution_count": 201,
   "id": "69cce7dc",
   "metadata": {},
   "outputs": [
    {
     "data": {
      "text/plain": [
       "((20584, 13), (20584,), (4000, 13), (4000,))"
      ]
     },
     "execution_count": 201,
     "metadata": {},
     "output_type": "execute_result"
    }
   ],
   "source": [
    "X_train_sm.shape, y_train_sm.shape, X_test.shape, y_test.shape"
   ]
  },
  {
   "attachments": {},
   "cell_type": "markdown",
   "id": "5ffe0ad9",
   "metadata": {},
   "source": [
    "### Data Validation, Why we need?\n",
    "The model is trained on the training set, and its performance is evaluated on the validation set. The hyperparameters are tuned to improve the model's performance on the validation set. Once the hyperparameters are selected, the model is retrained on the combined training and validation sets and evaluated on the test set to estimate its performance on new, unseen data.\n",
    "\n",
    "Having a separate validation set helps ensure that the model generalizes well to new, unseen data and is not just memorizing the training set. This is important because the ultimate goal of a machine learning model is to make accurate predictions on new, unseen data."
   ]
  },
  {
   "cell_type": "code",
   "execution_count": 152,
   "id": "896f1c2a",
   "metadata": {},
   "outputs": [],
   "source": [
    "X_train,X_valid, y_train, y_valid = train_test_split(X_train_sm,y_train_sm,test_size=0.2,random_state=42)"
   ]
  },
  {
   "cell_type": "code",
   "execution_count": 153,
   "id": "447db824",
   "metadata": {},
   "outputs": [
    {
     "name": "stdout",
     "output_type": "stream",
     "text": [
      "X_train shape: (10169, 13)\n",
      "y_train shape: (10169,)\n",
      "X_valid shape: (2543, 13)\n",
      "y_valid shape: (2543,)\n"
     ]
    }
   ],
   "source": [
    "print(\"X_train shape:\", X_train.shape)\n",
    "print(\"y_train shape:\", y_train.shape)\n",
    "print(\"X_valid shape:\", X_valid.shape)\n",
    "print(\"y_valid shape:\", y_valid.shape)"
   ]
  },
  {
   "cell_type": "markdown",
   "id": "822ec687",
   "metadata": {},
   "source": [
    "## Model training and Evaluation"
   ]
  },
  {
   "cell_type": "code",
   "execution_count": 184,
   "id": "3831a7a8",
   "metadata": {},
   "outputs": [],
   "source": [
    "import sklearn.metrics as mt\n",
    "\n",
    "class train_and_evaluate():\n",
    "    def __init__(self,X_train,y_train,X_test,y_test,train_flag:bool):\n",
    "        self.X_train = X_train\n",
    "        self.y_train = y_train\n",
    "        self.X_test = X_test\n",
    "        self.y_test = y_test\n",
    "        self.train_flag = train_flag\n",
    "\n",
    "    def train(self,model):\n",
    "        model.fit(self.X_train,self.y_train)\n",
    "        self.y_pred_train = model.predict(self.X_train)\n",
    "        self.y_pred_test = model.predict(self.X_test)\n",
    "        return self.y_pred_test\n",
    "    \n",
    "    def evaluate(self):\n",
    "        if self.train_flag==True:\n",
    "            y_true = self.y_train\n",
    "            y_pred = self.y_pred_train\n",
    "        else:\n",
    "            y_true = self.y_test\n",
    "            y_pred = self.y_pred_test\n",
    "            \n",
    "        accuracy_score_ = mt.accuracy_score(y_true,y_pred)\n",
    "        precision_score_ = mt.precision_score(y_true,y_pred)\n",
    "        recall_score_ = mt.recall_score(y_true,y_pred)\n",
    "        f1_score_ = mt.f1_score(y_true,y_pred)\n",
    "        roc_auc_score_ = mt.roc_auc_score(y_true,y_pred)\n",
    "        return accuracy_score_, precision_score_, recall_score_,f1_score_, roc_auc_score_\n",
    "            \n",
    "        \n",
    "    def experiments(self,*args,**kwargs):\n",
    "        model_list = [*args]\n",
    "        model_names = list(map(lambda x: str(x).split('(')[0],model_list))\n",
    "        accuracy_scores = []\n",
    "        precision_scores = []\n",
    "        recall_scores = []\n",
    "        f1_scores = []\n",
    "        roc_auc_scores = []\n",
    "        for model in model_list:\n",
    "            self.train(model)\n",
    "            accuracy_score_, precision_score_, recall_score_,f1_score_, roc_auc_score_ = self.evaluate()\n",
    "            accuracy_scores.append(accuracy_score_)\n",
    "            precision_scores.append(precision_score_)\n",
    "            recall_scores.append(recall_score_)\n",
    "            f1_scores.append(f1_score_)\n",
    "            roc_auc_scores.append(roc_auc_score_)\n",
    "            results = pd.DataFrame(list(zip(model_names,accuracy_scores,precision_scores,recall_scores,f1_scores,roc_auc_scores)),\n",
    "                                   columns=['Model_Name','Accuracy','Precision','Recall','F1','ROC_AUC']).sort_values(by=['F1'],ascending=False)\n",
    "        return results  \n"
   ]
  },
  {
   "attachments": {},
   "cell_type": "markdown",
   "id": "bd9e37ee",
   "metadata": {},
   "source": [
    "#### Experimenting on training set"
   ]
  },
  {
   "cell_type": "code",
   "execution_count": 185,
   "id": "c9d50e5b",
   "metadata": {},
   "outputs": [
    {
     "data": {
      "text/html": [
       "<div>\n",
       "<style scoped>\n",
       "    .dataframe tbody tr th:only-of-type {\n",
       "        vertical-align: middle;\n",
       "    }\n",
       "\n",
       "    .dataframe tbody tr th {\n",
       "        vertical-align: top;\n",
       "    }\n",
       "\n",
       "    .dataframe thead th {\n",
       "        text-align: right;\n",
       "    }\n",
       "</style>\n",
       "<table border=\"1\" class=\"dataframe\">\n",
       "  <thead>\n",
       "    <tr style=\"text-align: right;\">\n",
       "      <th></th>\n",
       "      <th>Model_Name</th>\n",
       "      <th>Accuracy</th>\n",
       "      <th>Precision</th>\n",
       "      <th>Recall</th>\n",
       "      <th>F1</th>\n",
       "      <th>ROC_AUC</th>\n",
       "    </tr>\n",
       "  </thead>\n",
       "  <tbody>\n",
       "    <tr>\n",
       "      <th>1</th>\n",
       "      <td>RandomForestClassifier</td>\n",
       "      <td>1.000000</td>\n",
       "      <td>1.000000</td>\n",
       "      <td>1.000000</td>\n",
       "      <td>1.000000</td>\n",
       "      <td>1.000000</td>\n",
       "    </tr>\n",
       "    <tr>\n",
       "      <th>0</th>\n",
       "      <td>XGBClassifier</td>\n",
       "      <td>0.962476</td>\n",
       "      <td>0.982756</td>\n",
       "      <td>0.941473</td>\n",
       "      <td>0.961671</td>\n",
       "      <td>0.962476</td>\n",
       "    </tr>\n",
       "    <tr>\n",
       "      <th>2</th>\n",
       "      <td>LGBMClassifier</td>\n",
       "      <td>0.933685</td>\n",
       "      <td>0.957510</td>\n",
       "      <td>0.907646</td>\n",
       "      <td>0.931912</td>\n",
       "      <td>0.933685</td>\n",
       "    </tr>\n",
       "    <tr>\n",
       "      <th>4</th>\n",
       "      <td>AdaBoostClassifier</td>\n",
       "      <td>0.819226</td>\n",
       "      <td>0.826311</td>\n",
       "      <td>0.808370</td>\n",
       "      <td>0.817242</td>\n",
       "      <td>0.819226</td>\n",
       "    </tr>\n",
       "    <tr>\n",
       "      <th>3</th>\n",
       "      <td>LogisticRegression</td>\n",
       "      <td>0.707914</td>\n",
       "      <td>0.711745</td>\n",
       "      <td>0.698867</td>\n",
       "      <td>0.705247</td>\n",
       "      <td>0.707914</td>\n",
       "    </tr>\n",
       "  </tbody>\n",
       "</table>\n",
       "</div>"
      ],
      "text/plain": [
       "               Model_Name  Accuracy  Precision    Recall        F1   ROC_AUC\n",
       "1  RandomForestClassifier  1.000000   1.000000  1.000000  1.000000  1.000000\n",
       "0           XGBClassifier  0.962476   0.982756  0.941473  0.961671  0.962476\n",
       "2          LGBMClassifier  0.933685   0.957510  0.907646  0.931912  0.933685\n",
       "4      AdaBoostClassifier  0.819226   0.826311  0.808370  0.817242  0.819226\n",
       "3      LogisticRegression  0.707914   0.711745  0.698867  0.705247  0.707914"
      ]
     },
     "execution_count": 185,
     "metadata": {},
     "output_type": "execute_result"
    }
   ],
   "source": [
    "model_exp_train = train_and_evaluate(X_train_sm,y_train_sm,X_test,y_test,train_flag=True)\n",
    "model_exp_train.experiments(XGBClassifier(),RandomForestClassifier(),LGBMClassifier(),LogisticRegression(),AdaBoostClassifier()) "
   ]
  },
  {
   "cell_type": "code",
   "execution_count": 186,
   "id": "eb022c59",
   "metadata": {},
   "outputs": [
    {
     "data": {
      "text/html": [
       "<div>\n",
       "<style scoped>\n",
       "    .dataframe tbody tr th:only-of-type {\n",
       "        vertical-align: middle;\n",
       "    }\n",
       "\n",
       "    .dataframe tbody tr th {\n",
       "        vertical-align: top;\n",
       "    }\n",
       "\n",
       "    .dataframe thead th {\n",
       "        text-align: right;\n",
       "    }\n",
       "</style>\n",
       "<table border=\"1\" class=\"dataframe\">\n",
       "  <thead>\n",
       "    <tr style=\"text-align: right;\">\n",
       "      <th></th>\n",
       "      <th>Model_Name</th>\n",
       "      <th>Accuracy</th>\n",
       "      <th>Precision</th>\n",
       "      <th>Recall</th>\n",
       "      <th>F1</th>\n",
       "      <th>ROC_AUC</th>\n",
       "    </tr>\n",
       "  </thead>\n",
       "  <tbody>\n",
       "    <tr>\n",
       "      <th>0</th>\n",
       "      <td>XGBClassifier</td>\n",
       "      <td>0.8590</td>\n",
       "      <td>0.666667</td>\n",
       "      <td>0.564885</td>\n",
       "      <td>0.611570</td>\n",
       "      <td>0.747906</td>\n",
       "    </tr>\n",
       "    <tr>\n",
       "      <th>2</th>\n",
       "      <td>LGBMClassifier</td>\n",
       "      <td>0.8585</td>\n",
       "      <td>0.664671</td>\n",
       "      <td>0.564885</td>\n",
       "      <td>0.610729</td>\n",
       "      <td>0.747595</td>\n",
       "    </tr>\n",
       "    <tr>\n",
       "      <th>1</th>\n",
       "      <td>RandomForestClassifier</td>\n",
       "      <td>0.8395</td>\n",
       "      <td>0.589552</td>\n",
       "      <td>0.603053</td>\n",
       "      <td>0.596226</td>\n",
       "      <td>0.750189</td>\n",
       "    </tr>\n",
       "    <tr>\n",
       "      <th>4</th>\n",
       "      <td>AdaBoostClassifier</td>\n",
       "      <td>0.8060</td>\n",
       "      <td>0.504456</td>\n",
       "      <td>0.720102</td>\n",
       "      <td>0.593291</td>\n",
       "      <td>0.773554</td>\n",
       "    </tr>\n",
       "    <tr>\n",
       "      <th>3</th>\n",
       "      <td>LogisticRegression</td>\n",
       "      <td>0.7250</td>\n",
       "      <td>0.390821</td>\n",
       "      <td>0.715013</td>\n",
       "      <td>0.505396</td>\n",
       "      <td>0.721228</td>\n",
       "    </tr>\n",
       "  </tbody>\n",
       "</table>\n",
       "</div>"
      ],
      "text/plain": [
       "               Model_Name  Accuracy  Precision    Recall        F1   ROC_AUC\n",
       "0           XGBClassifier    0.8590   0.666667  0.564885  0.611570  0.747906\n",
       "2          LGBMClassifier    0.8585   0.664671  0.564885  0.610729  0.747595\n",
       "1  RandomForestClassifier    0.8395   0.589552  0.603053  0.596226  0.750189\n",
       "4      AdaBoostClassifier    0.8060   0.504456  0.720102  0.593291  0.773554\n",
       "3      LogisticRegression    0.7250   0.390821  0.715013  0.505396  0.721228"
      ]
     },
     "execution_count": 186,
     "metadata": {},
     "output_type": "execute_result"
    }
   ],
   "source": [
    "model_exp_test = train_and_evaluate(X_train_sm,y_train_sm,X_test,y_test,train_flag=False)\n",
    "model_exp_test.experiments(XGBClassifier(),RandomForestClassifier(),LGBMClassifier(),LogisticRegression(),AdaBoostClassifier()) "
   ]
  },
  {
   "cell_type": "code",
   "execution_count": null,
   "id": "e39611b1",
   "metadata": {},
   "outputs": [],
   "source": []
  }
 ],
 "metadata": {
  "kernelspec": {
   "display_name": "cuda",
   "language": "python",
   "name": "python3"
  },
  "language_info": {
   "codemirror_mode": {
    "name": "ipython",
    "version": 3
   },
   "file_extension": ".py",
   "mimetype": "text/x-python",
   "name": "python",
   "nbconvert_exporter": "python",
   "pygments_lexer": "ipython3",
   "version": "3.9.16"
  }
 },
 "nbformat": 4,
 "nbformat_minor": 5
}
